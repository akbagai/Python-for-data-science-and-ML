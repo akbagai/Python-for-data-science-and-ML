{
 "cells": [
  {
   "cell_type": "code",
   "execution_count": 44,
   "metadata": {},
   "outputs": [],
   "source": [
    "import numpy as np\n",
    "from bokeh.plotting import figure, output_notebook, show\n",
    "import matplotlib.pyplot as plt"
   ]
  },
  {
   "cell_type": "code",
   "execution_count": 45,
   "metadata": {
    "collapsed": true
   },
   "outputs": [],
   "source": [
    "def split(u, v, points):\n",
    "    # return points on left side of UV\n",
    "    return [p for p in points if np.cross(p - u, v - u) < 0]\n",
    "\n",
    "def extend(u, v, points):\n",
    "    if not points:\n",
    "        return []\n",
    "\n",
    "    # find furthest point W, and split search to WV, UW\n",
    "    w = min(points, key=lambda p: np.cross(p - u, v - u))\n",
    "    p1, p2 = split(w, v, points), split(u, w, points)\n",
    "    return extend(w, v, p1) + [w] + extend(u, w, p2)\n",
    "\n",
    "def convex_hull(points):\n",
    "    # find two hull points, U, V, and split to left and right search\n",
    "    u = min(points, key=lambda p: p[0])\n",
    "    v = max(points, key=lambda p: p[0])\n",
    "    left, right = split(u, v, points), split(v, u, points)\n",
    "    \n",
    "    # find convex hull on each side\n",
    "    return [v] + extend(u, v, left) + [u] + extend(v, u, right) + [v]"
   ]
  },
  {
   "cell_type": "code",
   "execution_count": 46,
   "metadata": {},
   "outputs": [
    {
     "data": {
      "text/plain": [
       "array([[ 0.99533483,  0.49411723],\n",
       "       [ 0.98072765,  0.9144536 ],\n",
       "       [ 0.70482881,  0.98063321],\n",
       "       [ 0.36515096,  0.9936179 ],\n",
       "       [ 0.01995745,  0.94125288],\n",
       "       [ 0.01873721,  0.55857858],\n",
       "       [ 0.01996463,  0.22632487],\n",
       "       [ 0.05931013,  0.04987382],\n",
       "       [ 0.33023102,  0.02581013],\n",
       "       [ 0.92535984,  0.03682245],\n",
       "       [ 0.96684783,  0.06929628],\n",
       "       [ 0.99401604,  0.40174521],\n",
       "       [ 0.99533483,  0.49411723]])"
      ]
     },
     "execution_count": 46,
     "metadata": {},
     "output_type": "execute_result"
    }
   ],
   "source": [
    "points = np.random.rand(100, 2)\n",
    "hull = np.array(convex_hull(points))\n",
    "hull"
   ]
  },
  {
   "cell_type": "code",
   "execution_count": 47,
   "metadata": {},
   "outputs": [
    {
     "data": {
      "text/html": [
       "\n",
       "    <div class=\"bk-root\">\n",
       "        <a href=\"https://bokeh.pydata.org\" target=\"_blank\" class=\"bk-logo bk-logo-small bk-logo-notebook\"></a>\n",
       "        <span id=\"cd53d937-0080-493b-a672-f38e5c173c4a\">Loading BokehJS ...</span>\n",
       "    </div>"
      ]
     },
     "metadata": {},
     "output_type": "display_data"
    },
    {
     "data": {
      "application/javascript": [
       "\n",
       "(function(root) {\n",
       "  function now() {\n",
       "    return new Date();\n",
       "  }\n",
       "\n",
       "  var force = true;\n",
       "\n",
       "  if (typeof (root._bokeh_onload_callbacks) === \"undefined\" || force === true) {\n",
       "    root._bokeh_onload_callbacks = [];\n",
       "    root._bokeh_is_loading = undefined;\n",
       "  }\n",
       "\n",
       "  var JS_MIME_TYPE = 'application/javascript';\n",
       "  var HTML_MIME_TYPE = 'text/html';\n",
       "  var EXEC_MIME_TYPE = 'application/vnd.bokehjs_exec.v0+json';\n",
       "  var CLASS_NAME = 'output_bokeh rendered_html';\n",
       "\n",
       "  /**\n",
       "   * Render data to the DOM node\n",
       "   */\n",
       "  function render(props, node) {\n",
       "    var script = document.createElement(\"script\");\n",
       "    node.appendChild(script);\n",
       "  }\n",
       "\n",
       "  /**\n",
       "   * Handle when an output is cleared or removed\n",
       "   */\n",
       "  function handleClearOutput(event, handle) {\n",
       "    var cell = handle.cell;\n",
       "\n",
       "    var id = cell.output_area._bokeh_element_id;\n",
       "    var server_id = cell.output_area._bokeh_server_id;\n",
       "    // Clean up Bokeh references\n",
       "    if (id !== undefined) {\n",
       "      Bokeh.index[id].model.document.clear();\n",
       "      delete Bokeh.index[id];\n",
       "    }\n",
       "\n",
       "    if (server_id !== undefined) {\n",
       "      // Clean up Bokeh references\n",
       "      var cmd = \"from bokeh.io.state import curstate; print(curstate().uuid_to_server['\" + server_id + \"'].get_sessions()[0].document.roots[0]._id)\";\n",
       "      cell.notebook.kernel.execute(cmd, {\n",
       "        iopub: {\n",
       "          output: function(msg) {\n",
       "            var element_id = msg.content.text.trim();\n",
       "            Bokeh.index[element_id].model.document.clear();\n",
       "            delete Bokeh.index[element_id];\n",
       "          }\n",
       "        }\n",
       "      });\n",
       "      // Destroy server and session\n",
       "      var cmd = \"import bokeh.io.notebook as ion; ion.destroy_server('\" + server_id + \"')\";\n",
       "      cell.notebook.kernel.execute(cmd);\n",
       "    }\n",
       "  }\n",
       "\n",
       "  /**\n",
       "   * Handle when a new output is added\n",
       "   */\n",
       "  function handleAddOutput(event, handle) {\n",
       "    var output_area = handle.output_area;\n",
       "    var output = handle.output;\n",
       "\n",
       "    // limit handleAddOutput to display_data with EXEC_MIME_TYPE content only\n",
       "    if ((output.output_type != \"display_data\") || (!output.data.hasOwnProperty(EXEC_MIME_TYPE))) {\n",
       "      return\n",
       "    }\n",
       "\n",
       "    var toinsert = output_area.element.find(\".\" + CLASS_NAME.split(' ')[0]);\n",
       "\n",
       "    if (output.metadata[EXEC_MIME_TYPE][\"id\"] !== undefined) {\n",
       "      toinsert[0].firstChild.textContent = output.data[JS_MIME_TYPE];\n",
       "      // store reference to embed id on output_area\n",
       "      output_area._bokeh_element_id = output.metadata[EXEC_MIME_TYPE][\"id\"];\n",
       "    }\n",
       "    if (output.metadata[EXEC_MIME_TYPE][\"server_id\"] !== undefined) {\n",
       "      var bk_div = document.createElement(\"div\");\n",
       "      bk_div.innerHTML = output.data[HTML_MIME_TYPE];\n",
       "      var script_attrs = bk_div.children[0].attributes;\n",
       "      for (var i = 0; i < script_attrs.length; i++) {\n",
       "        toinsert[0].firstChild.setAttribute(script_attrs[i].name, script_attrs[i].value);\n",
       "      }\n",
       "      // store reference to server id on output_area\n",
       "      output_area._bokeh_server_id = output.metadata[EXEC_MIME_TYPE][\"server_id\"];\n",
       "    }\n",
       "  }\n",
       "\n",
       "  function register_renderer(events, OutputArea) {\n",
       "\n",
       "    function append_mime(data, metadata, element) {\n",
       "      // create a DOM node to render to\n",
       "      var toinsert = this.create_output_subarea(\n",
       "        metadata,\n",
       "        CLASS_NAME,\n",
       "        EXEC_MIME_TYPE\n",
       "      );\n",
       "      this.keyboard_manager.register_events(toinsert);\n",
       "      // Render to node\n",
       "      var props = {data: data, metadata: metadata[EXEC_MIME_TYPE]};\n",
       "      render(props, toinsert[0]);\n",
       "      element.append(toinsert);\n",
       "      return toinsert\n",
       "    }\n",
       "\n",
       "    /* Handle when an output is cleared or removed */\n",
       "    events.on('clear_output.CodeCell', handleClearOutput);\n",
       "    events.on('delete.Cell', handleClearOutput);\n",
       "\n",
       "    /* Handle when a new output is added */\n",
       "    events.on('output_added.OutputArea', handleAddOutput);\n",
       "\n",
       "    /**\n",
       "     * Register the mime type and append_mime function with output_area\n",
       "     */\n",
       "    OutputArea.prototype.register_mime_type(EXEC_MIME_TYPE, append_mime, {\n",
       "      /* Is output safe? */\n",
       "      safe: true,\n",
       "      /* Index of renderer in `output_area.display_order` */\n",
       "      index: 0\n",
       "    });\n",
       "  }\n",
       "\n",
       "  // register the mime type if in Jupyter Notebook environment and previously unregistered\n",
       "  if (root.Jupyter !== undefined) {\n",
       "    var events = require('base/js/events');\n",
       "    var OutputArea = require('notebook/js/outputarea').OutputArea;\n",
       "\n",
       "    if (OutputArea.prototype.mime_types().indexOf(EXEC_MIME_TYPE) == -1) {\n",
       "      register_renderer(events, OutputArea);\n",
       "    }\n",
       "  }\n",
       "\n",
       "  \n",
       "  if (typeof (root._bokeh_timeout) === \"undefined\" || force === true) {\n",
       "    root._bokeh_timeout = Date.now() + 5000;\n",
       "    root._bokeh_failed_load = false;\n",
       "  }\n",
       "\n",
       "  var NB_LOAD_WARNING = {'data': {'text/html':\n",
       "     \"<div style='background-color: #fdd'>\\n\"+\n",
       "     \"<p>\\n\"+\n",
       "     \"BokehJS does not appear to have successfully loaded. If loading BokehJS from CDN, this \\n\"+\n",
       "     \"may be due to a slow or bad network connection. Possible fixes:\\n\"+\n",
       "     \"</p>\\n\"+\n",
       "     \"<ul>\\n\"+\n",
       "     \"<li>re-rerun `output_notebook()` to attempt to load from CDN again, or</li>\\n\"+\n",
       "     \"<li>use INLINE resources instead, as so:</li>\\n\"+\n",
       "     \"</ul>\\n\"+\n",
       "     \"<code>\\n\"+\n",
       "     \"from bokeh.resources import INLINE\\n\"+\n",
       "     \"output_notebook(resources=INLINE)\\n\"+\n",
       "     \"</code>\\n\"+\n",
       "     \"</div>\"}};\n",
       "\n",
       "  function display_loaded() {\n",
       "    var el = document.getElementById(\"cd53d937-0080-493b-a672-f38e5c173c4a\");\n",
       "    if (el != null) {\n",
       "      el.textContent = \"BokehJS is loading...\";\n",
       "    }\n",
       "    if (root.Bokeh !== undefined) {\n",
       "      if (el != null) {\n",
       "        el.textContent = \"BokehJS \" + root.Bokeh.version + \" successfully loaded.\";\n",
       "      }\n",
       "    } else if (Date.now() < root._bokeh_timeout) {\n",
       "      setTimeout(display_loaded, 100)\n",
       "    }\n",
       "  }\n",
       "\n",
       "\n",
       "  function run_callbacks() {\n",
       "    try {\n",
       "      root._bokeh_onload_callbacks.forEach(function(callback) { callback() });\n",
       "    }\n",
       "    finally {\n",
       "      delete root._bokeh_onload_callbacks\n",
       "    }\n",
       "    console.info(\"Bokeh: all callbacks have finished\");\n",
       "  }\n",
       "\n",
       "  function load_libs(js_urls, callback) {\n",
       "    root._bokeh_onload_callbacks.push(callback);\n",
       "    if (root._bokeh_is_loading > 0) {\n",
       "      console.log(\"Bokeh: BokehJS is being loaded, scheduling callback at\", now());\n",
       "      return null;\n",
       "    }\n",
       "    if (js_urls == null || js_urls.length === 0) {\n",
       "      run_callbacks();\n",
       "      return null;\n",
       "    }\n",
       "    console.log(\"Bokeh: BokehJS not loaded, scheduling load and callback at\", now());\n",
       "    root._bokeh_is_loading = js_urls.length;\n",
       "    for (var i = 0; i < js_urls.length; i++) {\n",
       "      var url = js_urls[i];\n",
       "      var s = document.createElement('script');\n",
       "      s.src = url;\n",
       "      s.async = false;\n",
       "      s.onreadystatechange = s.onload = function() {\n",
       "        root._bokeh_is_loading--;\n",
       "        if (root._bokeh_is_loading === 0) {\n",
       "          console.log(\"Bokeh: all BokehJS libraries loaded\");\n",
       "          run_callbacks()\n",
       "        }\n",
       "      };\n",
       "      s.onerror = function() {\n",
       "        console.warn(\"failed to load library \" + url);\n",
       "      };\n",
       "      console.log(\"Bokeh: injecting script tag for BokehJS library: \", url);\n",
       "      document.getElementsByTagName(\"head\")[0].appendChild(s);\n",
       "    }\n",
       "  };var element = document.getElementById(\"cd53d937-0080-493b-a672-f38e5c173c4a\");\n",
       "  if (element == null) {\n",
       "    console.log(\"Bokeh: ERROR: autoload.js configured with elementid 'cd53d937-0080-493b-a672-f38e5c173c4a' but no matching script tag was found. \")\n",
       "    return false;\n",
       "  }\n",
       "\n",
       "  var js_urls = [\"https://cdn.pydata.org/bokeh/release/bokeh-0.12.14.min.js\", \"https://cdn.pydata.org/bokeh/release/bokeh-widgets-0.12.14.min.js\", \"https://cdn.pydata.org/bokeh/release/bokeh-tables-0.12.14.min.js\", \"https://cdn.pydata.org/bokeh/release/bokeh-gl-0.12.14.min.js\"];\n",
       "\n",
       "  var inline_js = [\n",
       "    function(Bokeh) {\n",
       "      Bokeh.set_log_level(\"info\");\n",
       "    },\n",
       "    \n",
       "    function(Bokeh) {\n",
       "      \n",
       "    },\n",
       "    function(Bokeh) {\n",
       "      console.log(\"Bokeh: injecting CSS: https://cdn.pydata.org/bokeh/release/bokeh-0.12.14.min.css\");\n",
       "      Bokeh.embed.inject_css(\"https://cdn.pydata.org/bokeh/release/bokeh-0.12.14.min.css\");\n",
       "      console.log(\"Bokeh: injecting CSS: https://cdn.pydata.org/bokeh/release/bokeh-widgets-0.12.14.min.css\");\n",
       "      Bokeh.embed.inject_css(\"https://cdn.pydata.org/bokeh/release/bokeh-widgets-0.12.14.min.css\");\n",
       "      console.log(\"Bokeh: injecting CSS: https://cdn.pydata.org/bokeh/release/bokeh-tables-0.12.14.min.css\");\n",
       "      Bokeh.embed.inject_css(\"https://cdn.pydata.org/bokeh/release/bokeh-tables-0.12.14.min.css\");\n",
       "    }\n",
       "  ];\n",
       "\n",
       "  function run_inline_js() {\n",
       "    \n",
       "    if ((root.Bokeh !== undefined) || (force === true)) {\n",
       "      for (var i = 0; i < inline_js.length; i++) {\n",
       "        inline_js[i].call(root, root.Bokeh);\n",
       "      }if (force === true) {\n",
       "        display_loaded();\n",
       "      }} else if (Date.now() < root._bokeh_timeout) {\n",
       "      setTimeout(run_inline_js, 100);\n",
       "    } else if (!root._bokeh_failed_load) {\n",
       "      console.log(\"Bokeh: BokehJS failed to load within specified timeout.\");\n",
       "      root._bokeh_failed_load = true;\n",
       "    } else if (force !== true) {\n",
       "      var cell = $(document.getElementById(\"cd53d937-0080-493b-a672-f38e5c173c4a\")).parents('.cell').data().cell;\n",
       "      cell.output_area.append_execute_result(NB_LOAD_WARNING)\n",
       "    }\n",
       "\n",
       "  }\n",
       "\n",
       "  if (root._bokeh_is_loading === 0) {\n",
       "    console.log(\"Bokeh: BokehJS loaded, going straight to plotting\");\n",
       "    run_inline_js();\n",
       "  } else {\n",
       "    load_libs(js_urls, function() {\n",
       "      console.log(\"Bokeh: BokehJS plotting callback run at\", now());\n",
       "      run_inline_js();\n",
       "    });\n",
       "  }\n",
       "}(window));"
      ],
      "application/vnd.bokehjs_load.v0+json": "\n(function(root) {\n  function now() {\n    return new Date();\n  }\n\n  var force = true;\n\n  if (typeof (root._bokeh_onload_callbacks) === \"undefined\" || force === true) {\n    root._bokeh_onload_callbacks = [];\n    root._bokeh_is_loading = undefined;\n  }\n\n  \n\n  \n  if (typeof (root._bokeh_timeout) === \"undefined\" || force === true) {\n    root._bokeh_timeout = Date.now() + 5000;\n    root._bokeh_failed_load = false;\n  }\n\n  var NB_LOAD_WARNING = {'data': {'text/html':\n     \"<div style='background-color: #fdd'>\\n\"+\n     \"<p>\\n\"+\n     \"BokehJS does not appear to have successfully loaded. If loading BokehJS from CDN, this \\n\"+\n     \"may be due to a slow or bad network connection. Possible fixes:\\n\"+\n     \"</p>\\n\"+\n     \"<ul>\\n\"+\n     \"<li>re-rerun `output_notebook()` to attempt to load from CDN again, or</li>\\n\"+\n     \"<li>use INLINE resources instead, as so:</li>\\n\"+\n     \"</ul>\\n\"+\n     \"<code>\\n\"+\n     \"from bokeh.resources import INLINE\\n\"+\n     \"output_notebook(resources=INLINE)\\n\"+\n     \"</code>\\n\"+\n     \"</div>\"}};\n\n  function display_loaded() {\n    var el = document.getElementById(\"cd53d937-0080-493b-a672-f38e5c173c4a\");\n    if (el != null) {\n      el.textContent = \"BokehJS is loading...\";\n    }\n    if (root.Bokeh !== undefined) {\n      if (el != null) {\n        el.textContent = \"BokehJS \" + root.Bokeh.version + \" successfully loaded.\";\n      }\n    } else if (Date.now() < root._bokeh_timeout) {\n      setTimeout(display_loaded, 100)\n    }\n  }\n\n\n  function run_callbacks() {\n    try {\n      root._bokeh_onload_callbacks.forEach(function(callback) { callback() });\n    }\n    finally {\n      delete root._bokeh_onload_callbacks\n    }\n    console.info(\"Bokeh: all callbacks have finished\");\n  }\n\n  function load_libs(js_urls, callback) {\n    root._bokeh_onload_callbacks.push(callback);\n    if (root._bokeh_is_loading > 0) {\n      console.log(\"Bokeh: BokehJS is being loaded, scheduling callback at\", now());\n      return null;\n    }\n    if (js_urls == null || js_urls.length === 0) {\n      run_callbacks();\n      return null;\n    }\n    console.log(\"Bokeh: BokehJS not loaded, scheduling load and callback at\", now());\n    root._bokeh_is_loading = js_urls.length;\n    for (var i = 0; i < js_urls.length; i++) {\n      var url = js_urls[i];\n      var s = document.createElement('script');\n      s.src = url;\n      s.async = false;\n      s.onreadystatechange = s.onload = function() {\n        root._bokeh_is_loading--;\n        if (root._bokeh_is_loading === 0) {\n          console.log(\"Bokeh: all BokehJS libraries loaded\");\n          run_callbacks()\n        }\n      };\n      s.onerror = function() {\n        console.warn(\"failed to load library \" + url);\n      };\n      console.log(\"Bokeh: injecting script tag for BokehJS library: \", url);\n      document.getElementsByTagName(\"head\")[0].appendChild(s);\n    }\n  };var element = document.getElementById(\"cd53d937-0080-493b-a672-f38e5c173c4a\");\n  if (element == null) {\n    console.log(\"Bokeh: ERROR: autoload.js configured with elementid 'cd53d937-0080-493b-a672-f38e5c173c4a' but no matching script tag was found. \")\n    return false;\n  }\n\n  var js_urls = [\"https://cdn.pydata.org/bokeh/release/bokeh-0.12.14.min.js\", \"https://cdn.pydata.org/bokeh/release/bokeh-widgets-0.12.14.min.js\", \"https://cdn.pydata.org/bokeh/release/bokeh-tables-0.12.14.min.js\", \"https://cdn.pydata.org/bokeh/release/bokeh-gl-0.12.14.min.js\"];\n\n  var inline_js = [\n    function(Bokeh) {\n      Bokeh.set_log_level(\"info\");\n    },\n    \n    function(Bokeh) {\n      \n    },\n    function(Bokeh) {\n      console.log(\"Bokeh: injecting CSS: https://cdn.pydata.org/bokeh/release/bokeh-0.12.14.min.css\");\n      Bokeh.embed.inject_css(\"https://cdn.pydata.org/bokeh/release/bokeh-0.12.14.min.css\");\n      console.log(\"Bokeh: injecting CSS: https://cdn.pydata.org/bokeh/release/bokeh-widgets-0.12.14.min.css\");\n      Bokeh.embed.inject_css(\"https://cdn.pydata.org/bokeh/release/bokeh-widgets-0.12.14.min.css\");\n      console.log(\"Bokeh: injecting CSS: https://cdn.pydata.org/bokeh/release/bokeh-tables-0.12.14.min.css\");\n      Bokeh.embed.inject_css(\"https://cdn.pydata.org/bokeh/release/bokeh-tables-0.12.14.min.css\");\n    }\n  ];\n\n  function run_inline_js() {\n    \n    if ((root.Bokeh !== undefined) || (force === true)) {\n      for (var i = 0; i < inline_js.length; i++) {\n        inline_js[i].call(root, root.Bokeh);\n      }if (force === true) {\n        display_loaded();\n      }} else if (Date.now() < root._bokeh_timeout) {\n      setTimeout(run_inline_js, 100);\n    } else if (!root._bokeh_failed_load) {\n      console.log(\"Bokeh: BokehJS failed to load within specified timeout.\");\n      root._bokeh_failed_load = true;\n    } else if (force !== true) {\n      var cell = $(document.getElementById(\"cd53d937-0080-493b-a672-f38e5c173c4a\")).parents('.cell').data().cell;\n      cell.output_area.append_execute_result(NB_LOAD_WARNING)\n    }\n\n  }\n\n  if (root._bokeh_is_loading === 0) {\n    console.log(\"Bokeh: BokehJS loaded, going straight to plotting\");\n    run_inline_js();\n  } else {\n    load_libs(js_urls, function() {\n      console.log(\"Bokeh: BokehJS plotting callback run at\", now());\n      run_inline_js();\n    });\n  }\n}(window));"
     },
     "metadata": {},
     "output_type": "display_data"
    },
    {
     "data": {
      "text/html": [
       "\n",
       "<div class=\"bk-root\">\n",
       "    <div class=\"bk-plotdiv\" id=\"4e56ab0d-2156-4b66-9b7e-f3a5acaf0340\"></div>\n",
       "</div>"
      ]
     },
     "metadata": {},
     "output_type": "display_data"
    },
    {
     "data": {
      "application/javascript": [
       "(function(root) {\n",
       "  function embed_document(root) {\n",
       "    \n",
       "  var docs_json = {\"f3a98530-ef85-4534-a744-d7aac4643f57\":{\"roots\":{\"references\":[{\"attributes\":{},\"id\":\"f3970f74-e98b-4bf7-99ed-4a8b24893fb8\",\"type\":\"BasicTicker\"},{\"attributes\":{\"active_drag\":\"auto\",\"active_inspect\":\"auto\",\"active_scroll\":\"auto\",\"active_tap\":\"auto\",\"tools\":[{\"id\":\"5ba2c15a-8804-42bd-850e-5758d606392d\",\"type\":\"PanTool\"},{\"id\":\"e810ffc1-7ded-47c8-9a74-9dfa47e4d001\",\"type\":\"WheelZoomTool\"},{\"id\":\"06420de0-f5ee-47e6-9437-843cf4d82e5f\",\"type\":\"BoxZoomTool\"},{\"id\":\"1923705c-f33a-4b1a-9ca6-ae5f3e1dbfc4\",\"type\":\"SaveTool\"},{\"id\":\"218c4dcf-6fb4-45eb-b13a-9eb0c756849a\",\"type\":\"ResetTool\"},{\"id\":\"80f36071-f3a5-4c45-8cf8-214b68df9baf\",\"type\":\"HelpTool\"}]},\"id\":\"4582b03a-8ad2-4749-80c8-520356a19532\",\"type\":\"Toolbar\"},{\"attributes\":{\"formatter\":{\"id\":\"5859be0d-81b5-4f59-ad04-fcc1532b88b9\",\"type\":\"BasicTickFormatter\"},\"plot\":{\"id\":\"9e07f57a-39c8-4e53-adc4-aaaba9bd13e4\",\"subtype\":\"Figure\",\"type\":\"Plot\"},\"ticker\":{\"id\":\"5aecb4dd-2738-4991-bdbb-be58844bce8d\",\"type\":\"BasicTicker\"}},\"id\":\"cde1d9ac-2078-4dbd-aba9-c600980ec27e\",\"type\":\"LinearAxis\"},{\"attributes\":{\"data_source\":{\"id\":\"0853acd6-7a37-4cdf-b1b5-9d67d9d32485\",\"type\":\"ColumnDataSource\"},\"glyph\":{\"id\":\"c6078818-1063-4a03-8a56-3b3304e63bf7\",\"type\":\"Line\"},\"hover_glyph\":null,\"muted_glyph\":null,\"nonselection_glyph\":{\"id\":\"083a6bd2-4488-4c53-9908-7008030525f8\",\"type\":\"Line\"},\"selection_glyph\":null,\"view\":{\"id\":\"7a76e388-cfac-4b72-94d1-9eae8ca2b8bb\",\"type\":\"CDSView\"}},\"id\":\"64afae05-f2ea-439f-a0b4-3499cb2c20d8\",\"type\":\"GlyphRenderer\"},{\"attributes\":{},\"id\":\"5aecb4dd-2738-4991-bdbb-be58844bce8d\",\"type\":\"BasicTicker\"},{\"attributes\":{\"plot\":{\"id\":\"9e07f57a-39c8-4e53-adc4-aaaba9bd13e4\",\"subtype\":\"Figure\",\"type\":\"Plot\"},\"ticker\":{\"id\":\"f3970f74-e98b-4bf7-99ed-4a8b24893fb8\",\"type\":\"BasicTicker\"}},\"id\":\"cabd560a-6dff-40dc-93c1-71509572aa6e\",\"type\":\"Grid\"},{\"attributes\":{\"fill_color\":{\"value\":\"#1f77b4\"},\"line_color\":{\"value\":\"#1f77b4\"},\"x\":{\"field\":\"x\"},\"y\":{\"field\":\"y\"}},\"id\":\"a5395c8b-8f1c-467c-bf03-d879025fa970\",\"type\":\"Circle\"},{\"attributes\":{\"formatter\":{\"id\":\"bfe87204-bf3d-4d9b-a86c-512560b595fb\",\"type\":\"BasicTickFormatter\"},\"plot\":{\"id\":\"9e07f57a-39c8-4e53-adc4-aaaba9bd13e4\",\"subtype\":\"Figure\",\"type\":\"Plot\"},\"ticker\":{\"id\":\"f3970f74-e98b-4bf7-99ed-4a8b24893fb8\",\"type\":\"BasicTicker\"}},\"id\":\"a7f8e5e9-d62f-44a0-a7b3-5fab4bc81ee8\",\"type\":\"LinearAxis\"},{\"attributes\":{},\"id\":\"5859be0d-81b5-4f59-ad04-fcc1532b88b9\",\"type\":\"BasicTickFormatter\"},{\"attributes\":{\"callback\":null},\"id\":\"963ec1bd-e9fc-445b-8fd6-78394444c775\",\"type\":\"DataRange1d\"},{\"attributes\":{\"callback\":null,\"column_names\":[\"x\",\"y\"],\"data\":{\"x\":{\"__ndarray__\":\"6Yd9J3sI7D8fS8A/ojrrP8ZZ1xjVWeU/HVxorliN4T/JNlxq1u/mP79ow/UeYu8/qlCHy3/m0D/DrIpq/OnhP0PsQuqmdOs/YJm9o9gvkz8ueeCR6XjpPz9yyLn6zu8/SbjO21kQ4T/Av4SoNBXGP75Wj4ACvtw/1njU3H+v4j8bvzoRPebsP4dSiv+X1+Y/4BN9M1tioT9E9AGRbproP+wl2H9BzOo/miEBIZnB1D9Q9V19X4DcP7HFywnTneM/cJ5TCDD+uT8Als8waJbeP5jjN2z/Meg/6msCfOtk3j8AgAjY5V2uPzoTzeBq+Ok/OlSbTdrL3D/kRJElTNjHP9AHgNl8ZqI/cRYfiiPr5D+xc4CS/93gP7omsPqafuY/WxzbWtTk5j90HLTS6+rSPylig4YlzuA/4FSfjosx2T9vaF9N9GjuP1UWFi5ULeY/Bx1rpxWG6D90X4DqlVrmP8rZk9BiZds/KIGZV/gUxT+AS1xJZVK2P6LsTmzI2e8/4CunELg0mD8YvBOJ10HmPxkDUP08X+c/wDamElfl4T98eaiKhZXMP/wMKE4EkNg/O9PbJP0K5D8CFR3pGNfqP3BViGuXPqA/XjdYS4Ei1T+1923UEyXgP9kBgTW5deg/ZF78rRe75T+Ka/cPYUXlP2IUYRH2aNA/ojgjPYyc7T+stCk6ETnnP+DhFvj1e9o/agR33Grw7j9AkRP+jNPHP67Zd9QI+eQ/iDsTj2/6tz8yIMFSKNXnP0hmvZOZnNo/fA+Nf3VL2T/u3LARnt3oP1GBni3BpOM/+12oAr2c6T+cuhPHhm7LPwBI2jrUBMU/aKLCXy62xT+ghW8nbneqP+Em1/poj+Q/4A5hEZHZ2j/6aps+Qv3cP9Lpux+iXtc/WG18w4AauT8Y9d0pSwPdPzCkauG1JrM/kwqSK22l4D8aXc4juNzTPzEwjT4Rdew/mHdkfuRdyj+A1Xu9uW+UPwnwx2ZUhek/ZNpVJ/WN5j8AV9QQJPi6P45KG/OeVtY/HvDcy+eN0z8g/4l+m3GUP8V5MmGi2+o/eBQ8MZhP3D8=\",\"dtype\":\"float64\",\"shape\":[100]},\"y\":{\"__ndarray__\":\"EK5Lc/Jopz8UzbgutpbgP2ZRaO/Hnuw/T9b73AaC4j9GrR8EDjPjP4jGaTI0Q+0/gXmnvGDf5j/4Sn50zEW3P03zOLUV0es/jXrvMeDf4T82V32YE17qPz4I1ooxttk/lnP5bMwF3D9I3P0mPnHCP3llloCQa+o/ZW/zE9Sw4T+Af/BE7xypP2BbLhtYe9k/OaXuliFl6T9o/fXV7dnmP5oKZKkwoNc/qN8C1WDRyT+w1uSNngGvP2XxuEQ4Tuk/CA09o0V/xz9IrFcCCSm/P02eB9CJrOc/ev9foGaG1z9gUdPaD4mpPyapDw9GAuE/sKQturpzoD+wjjBU5e/EPxBYruWdcsw/vJ9psoV21T8UI+gyVwbMP+c7w63B1Ok/IPTkVR5BrD/pIUTWEUToP8Sq4VeRfe8/iLn8n2Fn0z8cWgP27XnYP/4Mdrvpk9k/1NJeJLfT3j8g6fIpUvXoP2eMH4ErN+I/pMYqJTwc0T8EnsOakI3nPzoUg9+dn98/msbcmM7L4j+eRKqwspLsP3XOi2d8MuI/lDTC3FIM6j8Q10Gx8Nu9P4gJDebIQbg/Ed+fRIoE7T95dmVJq8fsPzzjp/7+a9c/oAeJhPhtmj9zFxvP3krmP6pslzOYHus/LQVEaM834D9lkJ+J2EXgP20tUrgqX+k/IN98VWTaoj+g5cc5Q9GiP2AWFEeAjtc/iIcfoGa9sT9+rV+xt3bsP42XPYX2zOU/9nWo0dYr5T8sc0dw3ujVP2k05FsRKOA/kKYezJhloT/yFkSUJ4XnP2lYKHEnIO0/WDbhHLS81T/QATB9RTq5P0jsRwYZ0tQ/fLBiJ8NJxD/OXvEoniXbP0LP7FS5Xdg/+Hfddq2/xz9GY/Z7K0vuP197BMO3y+8/UPTVh2JHsz/tPA9rL4HmP15sctsWJ+4/lDVZOj5O7T/0bTyB69/eP+mADCiDzOY/SNbZqs896D+OBxRbvh7uP5Lh1RN/5dI/Mbth51hh7z+CMlV7pFzmP/wBS0cxROA/tKZm28dw5z/AfnOjNvjMP1h5ZNg7krk/tli6/mbR0z8=\",\"dtype\":\"float64\",\"shape\":[100]}}},\"id\":\"9ab3f01e-44a4-4570-a573-d3bf5dd33cd6\",\"type\":\"ColumnDataSource\"},{\"attributes\":{\"plot\":null,\"text\":\"\"},\"id\":\"04c941b5-eb00-4891-a73d-080bf9b2e1d4\",\"type\":\"Title\"},{\"attributes\":{},\"id\":\"5ba2c15a-8804-42bd-850e-5758d606392d\",\"type\":\"PanTool\"},{\"attributes\":{\"dimension\":1,\"plot\":{\"id\":\"9e07f57a-39c8-4e53-adc4-aaaba9bd13e4\",\"subtype\":\"Figure\",\"type\":\"Plot\"},\"ticker\":{\"id\":\"5aecb4dd-2738-4991-bdbb-be58844bce8d\",\"type\":\"BasicTicker\"}},\"id\":\"42bae29c-d996-4b32-969b-74bed091ec65\",\"type\":\"Grid\"},{\"attributes\":{\"callback\":null},\"id\":\"c354b15d-f4a3-4236-ad58-4744d6e051e5\",\"type\":\"DataRange1d\"},{\"attributes\":{},\"id\":\"218c4dcf-6fb4-45eb-b13a-9eb0c756849a\",\"type\":\"ResetTool\"},{\"attributes\":{\"bottom_units\":\"screen\",\"fill_alpha\":{\"value\":0.5},\"fill_color\":{\"value\":\"lightgrey\"},\"left_units\":\"screen\",\"level\":\"overlay\",\"line_alpha\":{\"value\":1.0},\"line_color\":{\"value\":\"black\"},\"line_dash\":[4,4],\"line_width\":{\"value\":2},\"plot\":null,\"render_mode\":\"css\",\"right_units\":\"screen\",\"top_units\":\"screen\"},\"id\":\"671b959b-ef59-40fb-937d-a07dcd004e24\",\"type\":\"BoxAnnotation\"},{\"attributes\":{\"line_color\":\"red\",\"x\":{\"field\":\"x\"},\"y\":{\"field\":\"y\"}},\"id\":\"c6078818-1063-4a03-8a56-3b3304e63bf7\",\"type\":\"Line\"},{\"attributes\":{\"data_source\":{\"id\":\"9ab3f01e-44a4-4570-a573-d3bf5dd33cd6\",\"type\":\"ColumnDataSource\"},\"glyph\":{\"id\":\"a5395c8b-8f1c-467c-bf03-d879025fa970\",\"type\":\"Circle\"},\"hover_glyph\":null,\"muted_glyph\":null,\"nonselection_glyph\":{\"id\":\"80573f7d-2903-4419-b8db-38561370a373\",\"type\":\"Circle\"},\"selection_glyph\":null,\"view\":{\"id\":\"626c6274-3148-4460-9409-e6a4212ca019\",\"type\":\"CDSView\"}},\"id\":\"503dd76b-9ca7-4d0e-af87-33c88fabb007\",\"type\":\"GlyphRenderer\"},{\"attributes\":{},\"id\":\"35dfce20-f7d1-4262-8753-3cc5b71d4f9c\",\"type\":\"LinearScale\"},{\"attributes\":{\"fill_alpha\":{\"value\":0.1},\"fill_color\":{\"value\":\"#1f77b4\"},\"line_alpha\":{\"value\":0.1},\"line_color\":{\"value\":\"#1f77b4\"},\"x\":{\"field\":\"x\"},\"y\":{\"field\":\"y\"}},\"id\":\"80573f7d-2903-4419-b8db-38561370a373\",\"type\":\"Circle\"},{\"attributes\":{},\"id\":\"5841db40-283f-40b4-8591-d752753f5f6c\",\"type\":\"LinearScale\"},{\"attributes\":{},\"id\":\"e810ffc1-7ded-47c8-9a74-9dfa47e4d001\",\"type\":\"WheelZoomTool\"},{\"attributes\":{\"source\":{\"id\":\"0853acd6-7a37-4cdf-b1b5-9d67d9d32485\",\"type\":\"ColumnDataSource\"}},\"id\":\"7a76e388-cfac-4b72-94d1-9eae8ca2b8bb\",\"type\":\"CDSView\"},{\"attributes\":{},\"id\":\"80f36071-f3a5-4c45-8cf8-214b68df9baf\",\"type\":\"HelpTool\"},{\"attributes\":{\"below\":[{\"id\":\"a7f8e5e9-d62f-44a0-a7b3-5fab4bc81ee8\",\"type\":\"LinearAxis\"}],\"left\":[{\"id\":\"cde1d9ac-2078-4dbd-aba9-c600980ec27e\",\"type\":\"LinearAxis\"}],\"renderers\":[{\"id\":\"a7f8e5e9-d62f-44a0-a7b3-5fab4bc81ee8\",\"type\":\"LinearAxis\"},{\"id\":\"cabd560a-6dff-40dc-93c1-71509572aa6e\",\"type\":\"Grid\"},{\"id\":\"cde1d9ac-2078-4dbd-aba9-c600980ec27e\",\"type\":\"LinearAxis\"},{\"id\":\"42bae29c-d996-4b32-969b-74bed091ec65\",\"type\":\"Grid\"},{\"id\":\"671b959b-ef59-40fb-937d-a07dcd004e24\",\"type\":\"BoxAnnotation\"},{\"id\":\"503dd76b-9ca7-4d0e-af87-33c88fabb007\",\"type\":\"GlyphRenderer\"},{\"id\":\"64afae05-f2ea-439f-a0b4-3499cb2c20d8\",\"type\":\"GlyphRenderer\"}],\"title\":{\"id\":\"04c941b5-eb00-4891-a73d-080bf9b2e1d4\",\"type\":\"Title\"},\"toolbar\":{\"id\":\"4582b03a-8ad2-4749-80c8-520356a19532\",\"type\":\"Toolbar\"},\"x_range\":{\"id\":\"963ec1bd-e9fc-445b-8fd6-78394444c775\",\"type\":\"DataRange1d\"},\"x_scale\":{\"id\":\"35dfce20-f7d1-4262-8753-3cc5b71d4f9c\",\"type\":\"LinearScale\"},\"y_range\":{\"id\":\"c354b15d-f4a3-4236-ad58-4744d6e051e5\",\"type\":\"DataRange1d\"},\"y_scale\":{\"id\":\"5841db40-283f-40b4-8591-d752753f5f6c\",\"type\":\"LinearScale\"}},\"id\":\"9e07f57a-39c8-4e53-adc4-aaaba9bd13e4\",\"subtype\":\"Figure\",\"type\":\"Plot\"},{\"attributes\":{},\"id\":\"1923705c-f33a-4b1a-9ca6-ae5f3e1dbfc4\",\"type\":\"SaveTool\"},{\"attributes\":{\"overlay\":{\"id\":\"671b959b-ef59-40fb-937d-a07dcd004e24\",\"type\":\"BoxAnnotation\"}},\"id\":\"06420de0-f5ee-47e6-9437-843cf4d82e5f\",\"type\":\"BoxZoomTool\"},{\"attributes\":{},\"id\":\"bfe87204-bf3d-4d9b-a86c-512560b595fb\",\"type\":\"BasicTickFormatter\"},{\"attributes\":{\"callback\":null,\"column_names\":[\"x\",\"y\"],\"data\":{\"x\":{\"__ndarray__\":\"ouxObMjZ7z+/aMP1HmLvP2TaVSf1jeY/0um7H6Je1z+A1Xu9uW+UP2CZvaPYL5M/IP+JfptxlD8AgAjY5V2uP143WEuBItU/ojgjPYyc7T9qBHfcavDuPz9yyLn6zu8/ouxObMjZ7z8=\",\"dtype\":\"float64\",\"shape\":[13]},\"y\":{\"__ndarray__\":\"OhSD352f3z+IxmkyNEPtPzG7YedYYe8/X3sEw7fL7z+OBxRbvh7uP4167zHg3+E/wH5zozb4zD9gUdPaD4mpP6AHiYT4bZo/IN98VWTaoj+Ihx+gZr2xPz4I1ooxttk/OhSD352f3z8=\",\"dtype\":\"float64\",\"shape\":[13]}}},\"id\":\"0853acd6-7a37-4cdf-b1b5-9d67d9d32485\",\"type\":\"ColumnDataSource\"},{\"attributes\":{\"source\":{\"id\":\"9ab3f01e-44a4-4570-a573-d3bf5dd33cd6\",\"type\":\"ColumnDataSource\"}},\"id\":\"626c6274-3148-4460-9409-e6a4212ca019\",\"type\":\"CDSView\"},{\"attributes\":{\"line_alpha\":0.1,\"line_color\":\"#1f77b4\",\"x\":{\"field\":\"x\"},\"y\":{\"field\":\"y\"}},\"id\":\"083a6bd2-4488-4c53-9908-7008030525f8\",\"type\":\"Line\"}],\"root_ids\":[\"9e07f57a-39c8-4e53-adc4-aaaba9bd13e4\"]},\"title\":\"Bokeh Application\",\"version\":\"0.12.14\"}};\n",
       "  var render_items = [{\"docid\":\"f3a98530-ef85-4534-a744-d7aac4643f57\",\"elementid\":\"4e56ab0d-2156-4b66-9b7e-f3a5acaf0340\",\"modelid\":\"9e07f57a-39c8-4e53-adc4-aaaba9bd13e4\"}];\n",
       "  root.Bokeh.embed.embed_items_notebook(docs_json, render_items);\n",
       "\n",
       "  }\n",
       "  if (root.Bokeh !== undefined) {\n",
       "    embed_document(root);\n",
       "  } else {\n",
       "    var attempts = 0;\n",
       "    var timer = setInterval(function(root) {\n",
       "      if (root.Bokeh !== undefined) {\n",
       "        embed_document(root);\n",
       "        clearInterval(timer);\n",
       "      }\n",
       "      attempts++;\n",
       "      if (attempts > 100) {\n",
       "        console.log(\"Bokeh: ERROR: Unable to run BokehJS code because BokehJS library is missing\")\n",
       "        clearInterval(timer);\n",
       "      }\n",
       "    }, 10, root)\n",
       "  }\n",
       "})(window);"
      ],
      "application/vnd.bokehjs_exec.v0+json": ""
     },
     "metadata": {
      "application/vnd.bokehjs_exec.v0+json": {
       "id": "9e07f57a-39c8-4e53-adc4-aaaba9bd13e4"
      }
     },
     "output_type": "display_data"
    }
   ],
   "source": [
    "output_notebook()\n",
    "\n",
    "plot = figure()\n",
    "plot.scatter(x=points[:, 0], y=points[:, 1])\n",
    "plot.line(x=hull[:, 0], y=hull[:, 1], color='red')\n",
    "\n",
    "show(plot)"
   ]
  },
  {
   "cell_type": "code",
   "execution_count": 48,
   "metadata": {},
   "outputs": [
    {
     "data": {
      "text/plain": [
       "[<matplotlib.lines.Line2D at 0x10ffd6978>]"
      ]
     },
     "execution_count": 48,
     "metadata": {},
     "output_type": "execute_result"
    },
    {
     "data": {
      "image/png": "[encoded data removed]",
      "text/plain": [
       "<matplotlib.figure.Figure at 0x10ffd6668>"
      ]
     },
     "metadata": {},
     "output_type": "display_data"
    }
   ],
   "source": [
    "%matplotlib inline\n",
    "#output_notebook()\n",
    "\n",
    "#plot = figure()\n",
    "plt.scatter(x=points[:, 0], y=points[:, 1])\n",
    "plt.plot(hull[:, 0], hull[:, 1], 'r--')\n",
    "\n",
    "#show(plot)"
   ]
  },
  {
   "cell_type": "code",
   "execution_count": null,
   "metadata": {
    "collapsed": true
   },
   "outputs": [],
   "source": []
  },
  {
   "cell_type": "code",
   "execution_count": 49,
   "metadata": {
    "collapsed": true
   },
   "outputs": [],
   "source": [
    "from scipy.spatial import ConvexHull\n",
    "hull = ConvexHull(points)"
   ]
  },
  {
   "cell_type": "code",
   "execution_count": 50,
   "metadata": {},
   "outputs": [
    {
     "data": {
      "text/plain": [
       "[<matplotlib.lines.Line2D at 0x10e9ae2b0>]"
      ]
     },
     "execution_count": 50,
     "metadata": {},
     "output_type": "execute_result"
    },
    {
     "data": {
      "image/png": "[encoded data removed]",
      "text/plain": [
       "<matplotlib.figure.Figure at 0x10ffd6e10>"
      ]
     },
     "metadata": {},
     "output_type": "display_data"
    }
   ],
   "source": [
    "plt.plot(points[:,0], points[:,1], 'o')\n"
   ]
  },
  {
   "cell_type": "code",
   "execution_count": 51,
   "metadata": {},
   "outputs": [
    {
     "data": {
      "image/png": "[encoded data removed]",
      "text/plain": [
       "<matplotlib.figure.Figure at 0x10ea166a0>"
      ]
     },
     "metadata": {},
     "output_type": "display_data"
    }
   ],
   "source": [
    "for simplex in hull.simplices:\n",
    "    plt.plot(points[simplex, 0], points[simplex, 1], 'k-')"
   ]
  },
  {
   "cell_type": "code",
   "execution_count": 52,
   "metadata": {},
   "outputs": [
    {
     "data": {
      "image/png": "[encoded data removed]",
      "text/plain": [
       "<matplotlib.figure.Figure at 0x11000a9b0>"
      ]
     },
     "metadata": {},
     "output_type": "display_data"
    }
   ],
   "source": [
    "plt.plot(points[:,0], points[:,1], 'o')\n",
    "for simplex in hull.simplices:\n",
    "    plt.plot(points[simplex, 0], points[simplex, 1], 'k-')"
   ]
  },
  {
   "cell_type": "code",
   "execution_count": 53,
   "metadata": {},
   "outputs": [
    {
     "data": {
      "image/png": "[encoded data removed]",
      "text/plain": [
       "<matplotlib.figure.Figure at 0x10ffdfcf8>"
      ]
     },
     "metadata": {},
     "output_type": "display_data"
    }
   ],
   "source": [
    "from sklearn.datasets.samples_generator import make_blobs\n",
    "from matplotlib import pyplot\n",
    "from pandas import DataFrame\n",
    "# generate 2d classification dataset\n",
    "X, y = make_blobs(n_samples=100, centers=3, n_features=2)\n",
    "# scatter plot, dots colored by class value\n",
    "df = DataFrame(dict(x=X[:,0], y=X[:,1], label=y))\n",
    "\n",
    "colors = {0:'red', 1:'blue', 2:'green'}\n",
    "fig, ax = pyplot.subplots()\n",
    "grouped = df.groupby('label')\n",
    "for key, group in grouped:\n",
    "    group.plot(ax=ax, kind='scatter', x='x', y='y', label=key, color=colors[key])\n",
    "pyplot.show()"
   ]
  },
  {
   "cell_type": "code",
   "execution_count": 54,
   "metadata": {},
   "outputs": [
    {
     "data": {
      "text/html": [
       "<div>\n",
       "<style>\n",
       "    .dataframe thead tr:only-child th {\n",
       "        text-align: right;\n",
       "    }\n",
       "\n",
       "    .dataframe thead th {\n",
       "        text-align: left;\n",
       "    }\n",
       "\n",
       "    .dataframe tbody tr th {\n",
       "        vertical-align: top;\n",
       "    }\n",
       "</style>\n",
       "<table border=\"1\" class=\"dataframe\">\n",
       "  <thead>\n",
       "    <tr style=\"text-align: right;\">\n",
       "      <th></th>\n",
       "      <th>label</th>\n",
       "      <th>x</th>\n",
       "      <th>y</th>\n",
       "    </tr>\n",
       "  </thead>\n",
       "  <tbody>\n",
       "    <tr>\n",
       "      <th>0</th>\n",
       "      <td>0</td>\n",
       "      <td>-0.941781</td>\n",
       "      <td>2.885853</td>\n",
       "    </tr>\n",
       "    <tr>\n",
       "      <th>1</th>\n",
       "      <td>1</td>\n",
       "      <td>-4.872664</td>\n",
       "      <td>-8.710963</td>\n",
       "    </tr>\n",
       "    <tr>\n",
       "      <th>2</th>\n",
       "      <td>0</td>\n",
       "      <td>-2.765719</td>\n",
       "      <td>2.777609</td>\n",
       "    </tr>\n",
       "    <tr>\n",
       "      <th>3</th>\n",
       "      <td>0</td>\n",
       "      <td>-1.609140</td>\n",
       "      <td>4.206028</td>\n",
       "    </tr>\n",
       "    <tr>\n",
       "      <th>4</th>\n",
       "      <td>0</td>\n",
       "      <td>-2.009970</td>\n",
       "      <td>2.694397</td>\n",
       "    </tr>\n",
       "  </tbody>\n",
       "</table>\n",
       "</div>"
      ],
      "text/plain": [
       "   label         x         y\n",
       "0      0 -0.941781  2.885853\n",
       "1      1 -4.872664 -8.710963\n",
       "2      0 -2.765719  2.777609\n",
       "3      0 -1.609140  4.206028\n",
       "4      0 -2.009970  2.694397"
      ]
     },
     "execution_count": 54,
     "metadata": {},
     "output_type": "execute_result"
    }
   ],
   "source": [
    "df.head()"
   ]
  },
  {
   "cell_type": "code",
   "execution_count": null,
   "metadata": {
    "collapsed": true
   },
   "outputs": [],
   "source": []
  }
 ],
 "metadata": {
  "kernelspec": {
   "display_name": "Python 3",
   "language": "python",
   "name": "python3"
  },
  "language_info": {
   "codemirror_mode": {
    "name": "ipython",
    "version": 3
   },
   "file_extension": ".py",
   "mimetype": "text/x-python",
   "name": "python",
   "nbconvert_exporter": "python",
   "pygments_lexer": "ipython3",
   "version": "3.6.1"
  }
 },
 "nbformat": 4,
 "nbformat_minor": 2
}
